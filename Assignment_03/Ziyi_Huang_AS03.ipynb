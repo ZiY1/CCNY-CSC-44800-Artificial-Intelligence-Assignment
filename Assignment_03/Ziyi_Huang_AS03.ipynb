{
  "cells": [
    {
      "cell_type": "markdown",
      "metadata": {
        "id": "view-in-github",
        "colab_type": "text"
      },
      "source": [
        "<a href=\"https://colab.research.google.com/github/ZiY1/CSC-44800-Artificial-Intelligence/blob/main/Assignment_03/Ziyi_Huang_AS03.ipynb\" target=\"_parent\"><img src=\"https://colab.research.google.com/assets/colab-badge.svg\" alt=\"Open In Colab\"/></a>"
      ]
    },
    {
      "cell_type": "markdown",
      "metadata": {
        "id": "oEm8VVoTb5dn"
      },
      "source": [
        "<a href=\"https://colab.research.google.com/github/ZiY1/CSC-44800-Artificial-Intelligence/blob/main/Assignment_03/Ziyi_Huang_AS03.ipynb#scrollTo=oEm8VVoTb5dn[link text](https://)\" target=\"_parent\"><img src=\"https://colab.research.google.com/assets/colab-badge.svg\" alt=\"Open In Colab\"/></a>"
      ]
    },
    {
      "cell_type": "code",
      "execution_count": null,
      "metadata": {
        "id": "FQcn9lG8b5dq"
      },
      "outputs": [],
      "source": [
        "# Imports section\n",
        "\n",
        "import pandas as pd\n",
        "import numpy as np\n",
        "from sklearn.model_selection import train_test_split, RepeatedKFold, cross_val_score\n",
        "from sklearn.linear_model import LinearRegression\n",
        "from sklearn.preprocessing import PolynomialFeatures"
      ]
    },
    {
      "cell_type": "markdown",
      "metadata": {
        "id": "hkKspx3Ab5dr"
      },
      "source": [
        "## Part 1. Loading the dataset"
      ]
    },
    {
      "cell_type": "code",
      "execution_count": null,
      "metadata": {
        "id": "vETTDrjBb5dr"
      },
      "outputs": [],
      "source": [
        "# Using pandas load the dataset (load remotely, not locally)\n",
        "\n",
        "df_science = pd.read_csv(\"https://raw.githubusercontent.com/profmcnich/example_notebook/main/science_data_large.csv\")"
      ]
    },
    {
      "cell_type": "code",
      "execution_count": null,
      "metadata": {
        "id": "YcWiAr_DFmxj",
        "outputId": "6d64c545-264b-4b19-a0e3-ecdf24bbb65e"
      },
      "outputs": [
        {
          "data": {
            "text/html": [
              "<div>\n",
              "<style scoped>\n",
              "    .dataframe tbody tr th:only-of-type {\n",
              "        vertical-align: middle;\n",
              "    }\n",
              "\n",
              "    .dataframe tbody tr th {\n",
              "        vertical-align: top;\n",
              "    }\n",
              "\n",
              "    .dataframe thead th {\n",
              "        text-align: right;\n",
              "    }\n",
              "</style>\n",
              "<table border=\"1\" class=\"dataframe\">\n",
              "  <thead>\n",
              "    <tr style=\"text-align: right;\">\n",
              "      <th></th>\n",
              "      <th>Temperature °C</th>\n",
              "      <th>Mols KCL</th>\n",
              "      <th>Size nm^3</th>\n",
              "    </tr>\n",
              "  </thead>\n",
              "  <tbody>\n",
              "    <tr>\n",
              "      <th>0</th>\n",
              "      <td>469</td>\n",
              "      <td>647</td>\n",
              "      <td>6.244743e+05</td>\n",
              "    </tr>\n",
              "    <tr>\n",
              "      <th>1</th>\n",
              "      <td>403</td>\n",
              "      <td>694</td>\n",
              "      <td>5.779610e+05</td>\n",
              "    </tr>\n",
              "    <tr>\n",
              "      <th>2</th>\n",
              "      <td>302</td>\n",
              "      <td>975</td>\n",
              "      <td>6.196847e+05</td>\n",
              "    </tr>\n",
              "    <tr>\n",
              "      <th>3</th>\n",
              "      <td>779</td>\n",
              "      <td>916</td>\n",
              "      <td>1.460449e+06</td>\n",
              "    </tr>\n",
              "    <tr>\n",
              "      <th>4</th>\n",
              "      <td>901</td>\n",
              "      <td>18</td>\n",
              "      <td>4.325726e+04</td>\n",
              "    </tr>\n",
              "    <tr>\n",
              "      <th>5</th>\n",
              "      <td>545</td>\n",
              "      <td>637</td>\n",
              "      <td>7.124634e+05</td>\n",
              "    </tr>\n",
              "    <tr>\n",
              "      <th>6</th>\n",
              "      <td>660</td>\n",
              "      <td>519</td>\n",
              "      <td>7.006960e+05</td>\n",
              "    </tr>\n",
              "    <tr>\n",
              "      <th>7</th>\n",
              "      <td>143</td>\n",
              "      <td>869</td>\n",
              "      <td>2.718260e+05</td>\n",
              "    </tr>\n",
              "    <tr>\n",
              "      <th>8</th>\n",
              "      <td>89</td>\n",
              "      <td>461</td>\n",
              "      <td>8.919803e+04</td>\n",
              "    </tr>\n",
              "    <tr>\n",
              "      <th>9</th>\n",
              "      <td>294</td>\n",
              "      <td>776</td>\n",
              "      <td>4.770210e+05</td>\n",
              "    </tr>\n",
              "    <tr>\n",
              "      <th>10</th>\n",
              "      <td>991</td>\n",
              "      <td>117</td>\n",
              "      <td>2.441771e+05</td>\n",
              "    </tr>\n",
              "    <tr>\n",
              "      <th>11</th>\n",
              "      <td>307</td>\n",
              "      <td>781</td>\n",
              "      <td>5.006455e+05</td>\n",
              "    </tr>\n",
              "    <tr>\n",
              "      <th>12</th>\n",
              "      <td>206</td>\n",
              "      <td>70</td>\n",
              "      <td>3.145200e+04</td>\n",
              "    </tr>\n",
              "    <tr>\n",
              "      <th>13</th>\n",
              "      <td>437</td>\n",
              "      <td>599</td>\n",
              "      <td>5.390215e+05</td>\n",
              "    </tr>\n",
              "    <tr>\n",
              "      <th>14</th>\n",
              "      <td>566</td>\n",
              "      <td>75</td>\n",
              "      <td>9.185271e+04</td>\n",
              "    </tr>\n",
              "  </tbody>\n",
              "</table>\n",
              "</div>"
            ],
            "text/plain": [
              "    Temperature °C  Mols KCL     Size nm^3\n",
              "0              469       647  6.244743e+05\n",
              "1              403       694  5.779610e+05\n",
              "2              302       975  6.196847e+05\n",
              "3              779       916  1.460449e+06\n",
              "4              901        18  4.325726e+04\n",
              "5              545       637  7.124634e+05\n",
              "6              660       519  7.006960e+05\n",
              "7              143       869  2.718260e+05\n",
              "8               89       461  8.919803e+04\n",
              "9              294       776  4.770210e+05\n",
              "10             991       117  2.441771e+05\n",
              "11             307       781  5.006455e+05\n",
              "12             206        70  3.145200e+04\n",
              "13             437       599  5.390215e+05\n",
              "14             566        75  9.185271e+04"
            ]
          },
          "execution_count": 3,
          "metadata": {},
          "output_type": "execute_result"
        }
      ],
      "source": [
        "# Output the first 15 rows of the data\n",
        "\n",
        "df_science.head(15)"
      ]
    },
    {
      "cell_type": "code",
      "execution_count": null,
      "metadata": {
        "id": "tnXF2rF2Fmxk",
        "outputId": "cb00307c-d9cf-4f4b-b304-f35b08e0401b"
      },
      "outputs": [
        {
          "name": "stdout",
          "output_type": "stream",
          "text": [
            "<class 'pandas.core.frame.DataFrame'>\n",
            "RangeIndex: 1000 entries, 0 to 999\n",
            "Data columns (total 3 columns):\n",
            " #   Column          Non-Null Count  Dtype  \n",
            "---  ------          --------------  -----  \n",
            " 0   Temperature °C  1000 non-null   int64  \n",
            " 1   Mols KCL        1000 non-null   int64  \n",
            " 2   Size nm^3       1000 non-null   float64\n",
            "dtypes: float64(1), int64(2)\n",
            "memory usage: 23.6 KB\n"
          ]
        }
      ],
      "source": [
        "# Display a summary of the table information (number of datapoints, etc.)\n",
        "\n",
        "df_science.info()"
      ]
    },
    {
      "cell_type": "markdown",
      "metadata": {
        "id": "FBwvlmOsb5ds"
      },
      "source": [
        "## Part 2. Splitting the dataset"
      ]
    },
    {
      "cell_type": "code",
      "execution_count": null,
      "metadata": {
        "id": "7DV_Um-xb5ds"
      },
      "outputs": [],
      "source": [
        "# Take the pandas dataset and split it into our features (X) and label (y)\n",
        "\n",
        "# label (y)\n",
        "\n",
        "y = df_science.iloc[:, 2].values"
      ]
    },
    {
      "cell_type": "code",
      "execution_count": null,
      "metadata": {
        "id": "P7qrj1URFmxm"
      },
      "outputs": [],
      "source": [
        "# Take the pandas dataset and split it into our features (X) and label (y)\n",
        "\n",
        "# features (X)\n",
        "\n",
        "X = df_science.iloc[:, df_science.columns != 'Size nm^3'].values"
      ]
    },
    {
      "cell_type": "code",
      "execution_count": null,
      "metadata": {
        "id": "X2lNOtpcFmxm"
      },
      "outputs": [],
      "source": [
        "# Use sklearn to split the features and labels into a training/test set. (90% train, 10% test)\n",
        "\n",
        "X_train, X_test, y_train, y_test = train_test_split(X, y, train_size = 0.9, test_size=0.1, random_state=1, shuffle = True)"
      ]
    },
    {
      "cell_type": "markdown",
      "metadata": {
        "id": "oOjPIiQYb5dt"
      },
      "source": [
        "## Part 3. Perform a Linear Regression"
      ]
    },
    {
      "cell_type": "code",
      "execution_count": null,
      "metadata": {
        "id": "NyvnpLs7b5dt"
      },
      "outputs": [],
      "source": [
        "# Use sklearn to train a model on the training set\n",
        "\n",
        "reg = LinearRegression().fit(X_train, y_train)"
      ]
    },
    {
      "cell_type": "code",
      "execution_count": null,
      "metadata": {
        "id": "wefOem-jFmxn",
        "outputId": "e1050001-729b-4f1c-8e76-5bb047d45591"
      },
      "outputs": [
        {
          "name": "stdout",
          "output_type": "stream",
          "text": [
            "Sample Point:  28 , 600\n",
            "Prediction:  233100.8901880661\n"
          ]
        }
      ],
      "source": [
        "# Create a sample datapoint and predict the output of that sample with the trained model\n",
        "\n",
        "# Ler's create a sample point as Temperature °C: 28; Mols KCL: 600.\n",
        "\n",
        "X_sample_point = np.array([28, 600]).reshape(1, -1) # Reshape to a 2D array\n",
        "\n",
        "print('Sample Point: ', X_sample_point[0][0], ',', X_sample_point[0][1],)\n",
        "\n",
        "predict = reg.predict(X_sample_point)\n",
        "\n",
        "print('Prediction: ', predict[0])"
      ]
    },
    {
      "cell_type": "code",
      "execution_count": null,
      "metadata": {
        "id": "6VGtJNoNFmxo",
        "outputId": "1f52b48f-0224-417f-cbd1-f4b9997c04bb"
      },
      "outputs": [
        {
          "name": "stdout",
          "output_type": "stream",
          "text": [
            "Training Accuracy:  0.86088\n",
            "Testing Accuracy:  0.85809\n"
          ]
        }
      ],
      "source": [
        "# Report on the score for that model, in your own words (markdown, not code) explain what the score means\n",
        "\n",
        "train_accuray = reg.score(X_train, y_train)\n",
        "test_accuray = reg.score(X_test, y_test)\n",
        "\n",
        "print('Training Accuracy: ', '{:0.5f}'.format(train_accuray))\n",
        "print('Testing Accuracy: ', '{:0.5f}'.format(test_accuray))"
      ]
    },
    {
      "cell_type": "markdown",
      "metadata": {
        "id": "krZLppGsFmxo"
      },
      "source": [
        "## Report on the score of the model\n",
        "\n",
        "### 1. what is the score function?\n",
        "In simply words, score function is used to compute the models' prediction accuracy score, where by deafult it is calulated by correct predictions / all prediction.\n",
        "### 2. what does the score mean in our model? \n",
        "- We get the training accuracy by calling reg.score(X_train, y_train), where our model make the predictions on the traning dataset that we have splitted previously. We got the result of 0.86088, which means that in the all prediction that our model made in training dataset, 86.088% of them are correct.\n",
        "- We get the testing accuracy by calling reg.score(X_test, y_test), where our model make the predictions on the testing dataset at this time. We got the result of 0.85809, which means that in the all prediction that our model made in testing dataset, 85.809% of them are correct.\n",
        "- It is interesting to notice that our training accuracy is slightly better than testing accuracy. This is because that our model has seen the training dataset before, and it trained on that."
      ]
    },
    {
      "cell_type": "code",
      "execution_count": null,
      "metadata": {
        "id": "CmPVRztxFmxo",
        "outputId": "0348fd05-1a6d-4efd-ac3b-960f216eb9f4"
      },
      "outputs": [
        {
          "name": "stdout",
          "output_type": "stream",
          "text": [
            "Intercept:\n",
            "b0: -413045.20674\n",
            "Coefficient:\n",
            "b1:  861.67892\n",
            "b2:  1036.69848\n"
          ]
        }
      ],
      "source": [
        "# Extract the coefficents and intercept from the model and write an equation for your h(x) using LaTeX\n",
        "\n",
        "reg_coef = reg.coef_ # Extract the coefficents\n",
        "reg_intercept = reg.intercept_ # Extract the intercept\n",
        "\n",
        "print('Intercept:')\n",
        "print('b0:', '{:0.5f}'.format(reg_intercept))\n",
        "print('Coefficient:')\n",
        "print('b1: ', '{:0.5f}'.format(reg_coef[0]))\n",
        "print('b2: ', '{:0.5f}'.format(reg_coef[1]))"
      ]
    },
    {
      "cell_type": "markdown",
      "metadata": {
        "id": "HXqLXYj0Fmxp"
      },
      "source": [
        "## Equation for your h(x)\n",
        "\n",
        "### Linear Regresion Equation\n",
        "\n",
        "## $ h(x) = b_{0} + b_{1}\\cdot x_{1} + b_{2}\\cdot x_{2} + \\ldots + b_{n}\\cdot x_{n} $\n",
        "where $b_0$ is the intercept, $b_1$, $b_2$ are coefficients, and n is No. of observatioons \n",
        "\n",
        "## $ h(x) = -413045.20674 + 861.67892 \\cdot x_{1} + 1036.69848 \\cdot x_{2} $"
      ]
    },
    {
      "cell_type": "markdown",
      "metadata": {
        "id": "UwZNbAy8b5du"
      },
      "source": [
        "## Part 4. Use Cross Validation"
      ]
    },
    {
      "cell_type": "code",
      "execution_count": null,
      "metadata": {
        "id": "v_vaBRDDb5du",
        "outputId": "e098452f-1099-4c54-e508-639fcf21f140"
      },
      "outputs": [
        {
          "name": "stdout",
          "output_type": "stream",
          "text": [
            "Accuracy: 0.85674 (0.02097)\n"
          ]
        }
      ],
      "source": [
        "# Use the cross_val_score function to repeat your experiment across many shuffles of the data\n",
        "\n",
        "rkf  = RepeatedKFold(n_splits = 10, n_repeats=100, random_state = 1)\n",
        "scores = cross_val_score(reg, X, y, cv=rkf)\n",
        "#print(scores)\n",
        "print('Accuracy: %.5f (%.5f)' % (scores.mean(), scores.std()))"
      ]
    },
    {
      "cell_type": "markdown",
      "metadata": {
        "id": "8lHh5uinFmxp"
      },
      "source": [
        "## Report on their finding and their significance\n",
        "\n",
        "The cross-validation is used to evaluate the estimator's performance. More specifically, it is used to estimate the skill of our model on unseen data. Sometimes overfitting occurs when our model performs well on training data but does not generalize well to unseen test data, and cross validation can help use identify the overfitting problem. In this case, we can see that we cross validation gives us the mean score of 0.85674 with a standard deviation of 0.02097, so that we can confirm that our model does not have a overfitting problem because it generalizes well to unseen test data, recall that we have a testing accuracy of 0.85089"
      ]
    },
    {
      "cell_type": "markdown",
      "metadata": {
        "id": "UQiupcf9b5dv"
      },
      "source": [
        "## Part 5. Using Polynomial Regression"
      ]
    },
    {
      "cell_type": "code",
      "execution_count": null,
      "metadata": {
        "id": "8_jVDdRvb5dv",
        "outputId": "539bcc99-de88-4fb1-cc07-8ca3338e956b"
      },
      "outputs": [
        {
          "name": "stdout",
          "output_type": "stream",
          "text": [
            "Training Accuracy:  1.0\n",
            "Testing Accuracy:  1.0\n"
          ]
        }
      ],
      "source": [
        "# Using the PolynomialFeatures library perform another regression on an augmented dataset of degree 2\n",
        "\n",
        "poly = PolynomialFeatures(2).fit(X_train, y_train)\n",
        "\n",
        "# Augment the data\n",
        "\n",
        "X_aug = poly.fit_transform(X)\n",
        "\n",
        "# Split the dataset as before\n",
        "\n",
        "X_train_aug, X_test_aug, y_train, y_test = train_test_split(X_aug, y, train_size = 0.9, test_size=0.1, random_state=1, shuffle = True)\n",
        "\n",
        "# Perform a new regression\n",
        "\n",
        "poly_reg = LinearRegression().fit(X_train_aug, y_train)\n",
        "\n",
        "# Score of the model\n",
        "\n",
        "train_accuray = poly_reg.score(X_train_aug, y_train)\n",
        "test_accuray = poly_reg.score(X_test_aug, y_test)\n",
        "\n",
        "print('Training Accuracy: ', train_accuray)\n",
        "print('Testing Accuracy: ', test_accuray)"
      ]
    },
    {
      "cell_type": "markdown",
      "metadata": {
        "id": "EDvE-g-5Fmxq"
      },
      "source": [
        "## Report on the metrics\n",
        "Polynomial regression fits the data to more complex polynomial function.By using the Polynomial Regression in our model, we obtained an traing acuuracy of 1.0 and testing acurracy of 1.0, which is a full score, and it is better than the linear regression model. The reason is that polynomial fits a wide range of curvature, which is more flexiable than linear."
      ]
    },
    {
      "cell_type": "code",
      "execution_count": null,
      "metadata": {
        "id": "2ecAKQYiFmxq",
        "outputId": "6126a9b8-bfd0-4ead-ba6d-0b0dfa3b8ef2"
      },
      "outputs": [
        {
          "name": "stdout",
          "output_type": "stream",
          "text": [
            "Intercept:\n",
            "b0: 0.00001\n",
            "Coefficient:\n",
            "b 0 : 0.00000\n",
            "b 1 : 12.00000\n",
            "b 2 : -0.00000\n",
            "b 3 : -0.00000\n",
            "b 4 : 2.00000\n",
            "b 5 : 0.02857\n"
          ]
        }
      ],
      "source": [
        "# output the resultant equation as you did in Part 3.\n",
        "\n",
        "# The polunomial regression equation\n",
        "\n",
        "poly_reg_coef = poly_reg.coef_ # Extract the coefficents\n",
        "poly_reg_intercept = poly_reg.intercept_ # Extract the intercept\n",
        "print('Intercept:')\n",
        "print('b0:', '{:0.5f}'.format(poly_reg_intercept))\n",
        "print('Coefficient:')\n",
        "for i in range(len(poly_reg_coef)):\n",
        "    print('b', i, ':', '{:0.5f}'.format(poly_reg_coef[i]))"
      ]
    },
    {
      "cell_type": "markdown",
      "metadata": {
        "id": "hoEO10w_Fmxr"
      },
      "source": [
        "## Polynomial Regresion Equation\n",
        "\n",
        "##  $h(x) = 0.00001 + 0 \\cdot1 + 12\\cdot x_1 - 0\\cdot x_2 - 0 \\cdot x_1^2 + 2\\cdot x_1 \\cdot x_2 + 0.02857 \\cdot x_2^2 $ \n",
        "\n",
        "## $ = 0.00001 + 12\\cdot x_1 + 2\\cdot x_1 \\cdot x_2 + 0.02857 \\cdot x_2^2 $ "
      ]
    }
  ],
  "metadata": {
    "colab": {
      "name": "a3_sample_notebook.ipynb",
      "provenance": [],
      "include_colab_link": true
    },
    "kernelspec": {
      "display_name": "Python 3",
      "language": "python",
      "name": "python3"
    },
    "language_info": {
      "codemirror_mode": {
        "name": "ipython",
        "version": 3
      },
      "file_extension": ".py",
      "mimetype": "text/x-python",
      "name": "python",
      "nbconvert_exporter": "python",
      "pygments_lexer": "ipython3",
      "version": "3.8.5"
    }
  },
  "nbformat": 4,
  "nbformat_minor": 0
}